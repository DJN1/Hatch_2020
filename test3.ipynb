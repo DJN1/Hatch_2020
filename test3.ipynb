{
 "nbformat": 4,
 "nbformat_minor": 2,
 "metadata": {
  "language_info": {
   "name": "python",
   "codemirror_mode": {
    "name": "ipython",
    "version": 3
   }
  },
  "orig_nbformat": 2,
  "file_extension": ".py",
  "mimetype": "text/x-python",
  "name": "python",
  "npconvert_exporter": "python",
  "pygments_lexer": "ipython3",
  "version": 3,
  "kernelspec": {
   "name": "python37364bit0d1bc8e257174fbe9ca52dee52151f48",
   "display_name": "Python 3.7.3 64-bit"
  }
 },
 "cells": [
  {
   "cell_type": "code",
   "execution_count": 15,
   "metadata": {},
   "outputs": [],
   "source": [
    "\n",
    "import os\n",
    "import glob\n",
    "import pandas as pd\n",
    "from graphviz import Digraph, Graph\n",
    "import json\n"
   ]
  },
  {
   "cell_type": "code",
   "execution_count": 19,
   "metadata": {},
   "outputs": [
    {
     "name": "stdout",
     "output_type": "stream",
     "text": "['data\\\\F1.csv', 'data\\\\F10.csv', 'data\\\\F11.csv', 'data\\\\F12.csv', 'data\\\\F13.csv', 'data\\\\F14.csv', 'data\\\\F15.csv', 'data\\\\F16.csv', 'data\\\\F17.csv', 'data\\\\F18.csv', 'data\\\\F19.csv', 'data\\\\F2.csv', 'data\\\\F20.csv', 'data\\\\F3.csv', 'data\\\\F4.csv', 'data\\\\F5.csv', 'data\\\\F6.csv', 'data\\\\F7.csv', 'data\\\\F8.csv', 'data\\\\F9.csv']\n"
    }
   ],
   "source": [
    "\n",
    "\n",
    "currDIR = os.getcwd() + \"\\\\\\\\\"\n",
    "\n",
    "\n",
    "def getShape(gender):\n",
    "    if gender == \"M\":\n",
    "        return \"rect\"\n",
    "    else:\n",
    "        return \"circle\"\n",
    "\n",
    "fileNameList = [f for f in glob.glob(\"data/*.csv\")]\n",
    "\n",
    "print(fileNameList)\n",
    "\n",
    "familyNameDict = {}\n",
    "\n",
    "for name in fileNameList:\n",
    "    familyNameDict[(name.replace(\"data\\\\\", \"\").replace(\".csv\", \"\"))] = pd.read_csv(currDIR + name, encoding=\"UTF-8\")\n",
    "    # familiesList.append(pd.read_csv(currDIR + name, encoding=\"UTF-8\"))\n",
    "\n",
    "\n"
   ]
  },
  {
   "cell_type": "code",
   "execution_count": 36,
   "metadata": {},
   "outputs": [
    {
     "name": "stdout",
     "output_type": "stream",
     "text": "Relationship Sex Still Living      Disease   Age of Onset  Death\n0           Self   M            Y           NaN           NaN    NaN\n1           Mate   F            Y           NaN           NaN    NaN\n2          Child   F            Y           NaN           NaN    NaN\n3      Sibling 1   M            Y           NaN           NaN    NaN\n4      Sibling 2   F            Y           NaN           NaN    NaN\n5         Mother   F            Y           NaN           NaN    NaN\n6         Father   M            Y           NaN           NaN    NaN\n7  Mate's Mother   F            Y           NaN           NaN    NaN\n8  Mate's Father   M            N  Heart Attack          52.0   52.0\n"
    }
   ],
   "source": [
    "\n",
    "# #df = pd.read_csv(\"data/F1.csv\")\n",
    "\n",
    "#print(df)\n",
    "selfNode = familyNameDict[\"F1\"]\n",
    "print(selfNode)\n",
    "familyName = fileNameList[0].replace(\"data\\\\\", \"\").replace(\".csv\", \"\")\n",
    "\n",
    "# fam = Graph(comment=familyName, format=\"png\")\n",
    "# fam.node(\"{}\".format(str(familyName + selfNode)), selfNode.Relationship, shape=getShape(selfNode[1]))\n",
    "\n",
    "# fam.render(\"fam.gv\")"
   ]
  },
  {
   "cell_type": "code",
   "execution_count": null,
   "metadata": {},
   "outputs": [],
   "source": []
  }
 ]
}